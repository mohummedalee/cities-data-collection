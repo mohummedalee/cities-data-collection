{
 "cells": [
  {
   "cell_type": "code",
   "execution_count": null,
   "metadata": {},
   "outputs": [],
   "source": [
    "# single constraint vs generic\n",
    "\n",
    "#create a pandas dataframe\n",
    "import pandas as pd\n",
    "path = '/Users/shirandudy/Documents/Documents_new/NEU/projects/cities_representation/code'\n",
    "final_path = path+'/all_models_generic.csv'\n",
    "df = pd.read_csv(final_path)\n",
    "df_g = df.drop(['Unnamed: 0'], axis=1)\n",
    "#df = df.reset_index()\n",
    "df_g"
   ]
  }
 ],
 "metadata": {
  "kernelspec": {
   "display_name": "city_aud",
   "language": "python",
   "name": "python3"
  },
  "language_info": {
   "name": "python",
   "version": "3.11.9"
  }
 },
 "nbformat": 4,
 "nbformat_minor": 2
}
